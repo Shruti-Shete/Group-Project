{
 "cells": [
  {
   "cell_type": "code",
   "execution_count": 1,
   "id": "f0e1259f-f85a-468b-aa1b-db011f842d4c",
   "metadata": {},
   "outputs": [],
   "source": [
    "import numpy as np # linear algebra\n",
    "import pandas as pd\n",
    "import pandas as pd\n",
    "import numpy as np\n",
    "import os\n",
    "import seaborn as sns\n",
    "import matplotlib.pyplot as plt\n",
    "import librosa\n",
    "import librosa.display\n",
    "from IPython.display import Audio\n",
    "import warnings\n",
    "warnings.filterwarnings('ignore')"
   ]
  },
  {
   "cell_type": "code",
   "execution_count": 2,
   "id": "8a23c4ca-08e0-4c2d-a050-f4debb4f845b",
   "metadata": {},
   "outputs": [
    {
     "name": "stdout",
     "output_type": "stream",
     "text": [
      "Dataset is Loaded\n"
     ]
    }
   ],
   "source": [
    "paths = []\n",
    "labels = []\n",
    "for dirname, _, filenames in os.walk('C:/Users/DELL/OneDrive/Desktop/Machine Learning/project/TESS Toronto emotional speech set data'):\n",
    "    for filename in filenames:\n",
    "        paths.append(os.path.join(dirname, filename))\n",
    "        label = filename.split('_')[-1]\n",
    "        label = label.split('.')[0]\n",
    "        labels.append(label.lower())\n",
    "print('Dataset is Loaded')"
   ]
  },
  {
   "cell_type": "code",
   "execution_count": 3,
   "id": "9c7d4173-482e-438d-be70-dd38eee48bcb",
   "metadata": {},
   "outputs": [
    {
     "data": {
      "text/plain": [
       "['C:/Users/DELL/OneDrive/Desktop/Machine Learning/project/TESS Toronto emotional speech set data\\\\OAF_angry\\\\OAF_back_angry.wav',\n",
       " 'C:/Users/DELL/OneDrive/Desktop/Machine Learning/project/TESS Toronto emotional speech set data\\\\OAF_angry\\\\OAF_bar_angry.wav',\n",
       " 'C:/Users/DELL/OneDrive/Desktop/Machine Learning/project/TESS Toronto emotional speech set data\\\\OAF_angry\\\\OAF_base_angry.wav',\n",
       " 'C:/Users/DELL/OneDrive/Desktop/Machine Learning/project/TESS Toronto emotional speech set data\\\\OAF_angry\\\\OAF_bath_angry.wav',\n",
       " 'C:/Users/DELL/OneDrive/Desktop/Machine Learning/project/TESS Toronto emotional speech set data\\\\OAF_angry\\\\OAF_bean_angry.wav']"
      ]
     },
     "execution_count": 3,
     "metadata": {},
     "output_type": "execute_result"
    }
   ],
   "source": [
    "paths[:5]"
   ]
  },
  {
   "cell_type": "code",
   "execution_count": 4,
   "id": "95915d50-0ee8-44d2-8b21-1f752100df09",
   "metadata": {},
   "outputs": [
    {
     "data": {
      "text/plain": [
       "['angry', 'angry', 'angry', 'angry', 'angry']"
      ]
     },
     "execution_count": 4,
     "metadata": {},
     "output_type": "execute_result"
    }
   ],
   "source": [
    "labels[:5]"
   ]
  },
  {
   "cell_type": "code",
   "execution_count": 5,
   "id": "105e6fbc-841d-4d79-8a4d-ecf5f6eca342",
   "metadata": {},
   "outputs": [
    {
     "data": {
      "text/html": [
       "<div>\n",
       "<style scoped>\n",
       "    .dataframe tbody tr th:only-of-type {\n",
       "        vertical-align: middle;\n",
       "    }\n",
       "\n",
       "    .dataframe tbody tr th {\n",
       "        vertical-align: top;\n",
       "    }\n",
       "\n",
       "    .dataframe thead th {\n",
       "        text-align: right;\n",
       "    }\n",
       "</style>\n",
       "<table border=\"1\" class=\"dataframe\">\n",
       "  <thead>\n",
       "    <tr style=\"text-align: right;\">\n",
       "      <th></th>\n",
       "      <th>speech</th>\n",
       "      <th>label</th>\n",
       "    </tr>\n",
       "  </thead>\n",
       "  <tbody>\n",
       "    <tr>\n",
       "      <th>0</th>\n",
       "      <td>C:/Users/DELL/OneDrive/Desktop/Machine Learnin...</td>\n",
       "      <td>angry</td>\n",
       "    </tr>\n",
       "    <tr>\n",
       "      <th>1</th>\n",
       "      <td>C:/Users/DELL/OneDrive/Desktop/Machine Learnin...</td>\n",
       "      <td>angry</td>\n",
       "    </tr>\n",
       "    <tr>\n",
       "      <th>2</th>\n",
       "      <td>C:/Users/DELL/OneDrive/Desktop/Machine Learnin...</td>\n",
       "      <td>angry</td>\n",
       "    </tr>\n",
       "    <tr>\n",
       "      <th>3</th>\n",
       "      <td>C:/Users/DELL/OneDrive/Desktop/Machine Learnin...</td>\n",
       "      <td>angry</td>\n",
       "    </tr>\n",
       "    <tr>\n",
       "      <th>4</th>\n",
       "      <td>C:/Users/DELL/OneDrive/Desktop/Machine Learnin...</td>\n",
       "      <td>angry</td>\n",
       "    </tr>\n",
       "  </tbody>\n",
       "</table>\n",
       "</div>"
      ],
      "text/plain": [
       "                                              speech  label\n",
       "0  C:/Users/DELL/OneDrive/Desktop/Machine Learnin...  angry\n",
       "1  C:/Users/DELL/OneDrive/Desktop/Machine Learnin...  angry\n",
       "2  C:/Users/DELL/OneDrive/Desktop/Machine Learnin...  angry\n",
       "3  C:/Users/DELL/OneDrive/Desktop/Machine Learnin...  angry\n",
       "4  C:/Users/DELL/OneDrive/Desktop/Machine Learnin...  angry"
      ]
     },
     "execution_count": 5,
     "metadata": {},
     "output_type": "execute_result"
    }
   ],
   "source": [
    "## Create a dataframe\n",
    "df = pd.DataFrame()\n",
    "df['speech'] = paths\n",
    "df['label'] = labels\n",
    "df.head()"
   ]
  },
  {
   "cell_type": "code",
   "execution_count": null,
   "id": "4c271530-b4d3-4cee-8ba2-f12192934bab",
   "metadata": {},
   "outputs": [],
   "source": []
  }
 ],
 "metadata": {
  "kernelspec": {
   "display_name": "Python 3 (ipykernel)",
   "language": "python",
   "name": "python3"
  },
  "language_info": {
   "codemirror_mode": {
    "name": "ipython",
    "version": 3
   },
   "file_extension": ".py",
   "mimetype": "text/x-python",
   "name": "python",
   "nbconvert_exporter": "python",
   "pygments_lexer": "ipython3",
   "version": "3.9.12"
  }
 },
 "nbformat": 4,
 "nbformat_minor": 5
}
